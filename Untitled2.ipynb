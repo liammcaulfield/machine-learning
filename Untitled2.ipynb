{
 "cells": [
  {
   "cell_type": "markdown",
   "id": "d1149634",
   "metadata": {},
   "source": [
    "#Neural Networks\n",
    "## Analysis of the Steel Plates Faults Dataset. Using Neural Networks, we will predict the type of faults in steel plates.",
    "### Liam Caulfield\n",
    "### May 28, 2023"
   ]
  },
  {
   "cell_type": "code",
   "execution_count": 36,
   "id": "0ef75d61",
   "metadata": {},
   "outputs": [],
   "source": [
    "# import necessary libraries \n",
    "import torch\n",
    "import pandas as pd\n",
    "import numpy as np\n",
    "from sklearn.model_selection import train_test_split\n",
    "from sklearn.preprocessing import LabelEncoder, StandardScaler\n",
    "from keras.models import Sequential\n",
    "from keras.layers import Dense\n",
    "import matplotlib.pyplot as plt"
   ]
  },
  {
   "cell_type": "code",
   "execution_count": 20,
   "id": "fa5548af",
   "metadata": {},
   "outputs": [
    {
     "data": {
      "text/html": [
       "<div>\n",
       "<style scoped>\n",
       "    .dataframe tbody tr th:only-of-type {\n",
       "        vertical-align: middle;\n",
       "    }\n",
       "\n",
       "    .dataframe tbody tr th {\n",
       "        vertical-align: top;\n",
       "    }\n",
       "\n",
       "    .dataframe thead th {\n",
       "        text-align: right;\n",
       "    }\n",
       "</style>\n",
       "<table border=\"1\" class=\"dataframe\">\n",
       "  <thead>\n",
       "    <tr style=\"text-align: right;\">\n",
       "      <th></th>\n",
       "      <th>X_Minimum</th>\n",
       "      <th>X_Maximum</th>\n",
       "      <th>Y_Minimum</th>\n",
       "      <th>Y_Maximum</th>\n",
       "      <th>Pixels_Areas</th>\n",
       "      <th>X_Perimeter</th>\n",
       "      <th>Y_Perimeter</th>\n",
       "      <th>Sum_of_Luminosity</th>\n",
       "      <th>Minimum_of_Luminosity</th>\n",
       "      <th>Maximum_of_Luminosity</th>\n",
       "      <th>...</th>\n",
       "      <th>Orientation_Index</th>\n",
       "      <th>Luminosity_Index</th>\n",
       "      <th>SigmoidOfAreas</th>\n",
       "      <th>Pastry</th>\n",
       "      <th>Z_Scratch</th>\n",
       "      <th>K_Scatch</th>\n",
       "      <th>Stains</th>\n",
       "      <th>Dirtiness</th>\n",
       "      <th>Bumps</th>\n",
       "      <th>Other_Faults</th>\n",
       "    </tr>\n",
       "  </thead>\n",
       "  <tbody>\n",
       "    <tr>\n",
       "      <th>0</th>\n",
       "      <td>42</td>\n",
       "      <td>50</td>\n",
       "      <td>270900</td>\n",
       "      <td>270944</td>\n",
       "      <td>267</td>\n",
       "      <td>17</td>\n",
       "      <td>44</td>\n",
       "      <td>24220</td>\n",
       "      <td>76</td>\n",
       "      <td>108</td>\n",
       "      <td>...</td>\n",
       "      <td>0.8182</td>\n",
       "      <td>-0.2913</td>\n",
       "      <td>0.5822</td>\n",
       "      <td>1</td>\n",
       "      <td>0</td>\n",
       "      <td>0</td>\n",
       "      <td>0</td>\n",
       "      <td>0</td>\n",
       "      <td>0</td>\n",
       "      <td>0</td>\n",
       "    </tr>\n",
       "  </tbody>\n",
       "</table>\n",
       "<p>1 rows × 34 columns</p>\n",
       "</div>"
      ],
      "text/plain": [
       "   X_Minimum  X_Maximum  Y_Minimum  Y_Maximum  Pixels_Areas  X_Perimeter  \\\n",
       "0         42         50     270900     270944           267           17   \n",
       "\n",
       "   Y_Perimeter  Sum_of_Luminosity  Minimum_of_Luminosity  \\\n",
       "0           44              24220                     76   \n",
       "\n",
       "   Maximum_of_Luminosity  ...  Orientation_Index  Luminosity_Index  \\\n",
       "0                    108  ...             0.8182           -0.2913   \n",
       "\n",
       "   SigmoidOfAreas  Pastry  Z_Scratch  K_Scatch  Stains  Dirtiness  Bumps  \\\n",
       "0          0.5822       1          0         0       0          0      0   \n",
       "\n",
       "   Other_Faults  \n",
       "0             0  \n",
       "\n",
       "[1 rows x 34 columns]"
      ]
     },
     "execution_count": 20,
     "metadata": {},
     "output_type": "execute_result"
    }
   ],
   "source": [
    "# load dataset\n",
    "df = pd.read_csv('faults.csv')\n",
    "df.head(1)"
   ]
  },
  {
   "cell_type": "code",
   "execution_count": 29,
   "id": "5f25c05f",
   "metadata": {},
   "outputs": [],
   "source": [
    "# Separate the independent variables (attributes) and the dependent variables (fault types)\n",
    "X = df.drop(['Pastry', 'Z_Scratch', 'K_Scatch', 'Stains', 'Dirtiness', 'Bumps', 'Other_Faults', 'TypeOfSteel_A300', 'TypeOfSteel_A400'], axis=1)\n",
    "y = df[['Pastry', 'Z_Scratch', 'K_Scatch', 'Stains', 'Dirtiness', 'Bumps', 'Other_Faults']]"
   ]
  },
  {
   "cell_type": "code",
   "execution_count": 30,
   "id": "1bbd1b58",
   "metadata": {},
   "outputs": [],
   "source": [
    "# Preprocess the data\n",
    "scaler = StandardScaler()\n",
    "X = scaler.fit_transform(X)"
   ]
  },
  {
   "cell_type": "code",
   "execution_count": 31,
   "id": "4143077f",
   "metadata": {},
   "outputs": [],
   "source": [
    "# Split the dataset into training and test sets\n",
    "X_train, X_test, y_train, y_test = train_test_split(X, y, test_size=0.2, random_state=42)"
   ]
  },
  {
   "cell_type": "code",
   "execution_count": 32,
   "id": "b8ab7c98",
   "metadata": {},
   "outputs": [],
   "source": [
    "# Create the neural network model\n",
    "model = Sequential()\n",
    "model.add(Dense(32, activation='relu', input_shape=(X_train.shape[1],)))\n",
    "model.add(Dense(16, activation='relu'))\n",
    "model.add(Dense(7, activation='sigmoid'))  # Output layer with 7 units for the 7 fault types"
   ]
  },
  {
   "cell_type": "code",
   "execution_count": 33,
   "id": "e8e96739",
   "metadata": {},
   "outputs": [],
   "source": [
    "# Compile\n",
    "model.compile(loss='binary_crossentropy', optimizer='adam', metrics=['accuracy'])"
   ]
  },
  {
   "cell_type": "code",
   "execution_count": 34,
   "id": "9360c16b",
   "metadata": {},
   "outputs": [
    {
     "name": "stdout",
     "output_type": "stream",
     "text": [
      "Epoch 1/50\n",
      "39/39 [==============================] - 1s 8ms/step - loss: 0.6305 - accuracy: 0.3175 - val_loss: 0.5507 - val_accuracy: 0.3344\n",
      "Epoch 2/50\n",
      "39/39 [==============================] - 0s 4ms/step - loss: 0.4851 - accuracy: 0.3691 - val_loss: 0.4125 - val_accuracy: 0.3826\n",
      "Epoch 3/50\n",
      "39/39 [==============================] - 0s 3ms/step - loss: 0.3704 - accuracy: 0.4408 - val_loss: 0.3166 - val_accuracy: 0.5241\n",
      "Epoch 4/50\n",
      "39/39 [==============================] - 0s 3ms/step - loss: 0.3109 - accuracy: 0.4843 - val_loss: 0.2818 - val_accuracy: 0.5370\n",
      "Epoch 5/50\n",
      "39/39 [==============================] - 0s 3ms/step - loss: 0.2857 - accuracy: 0.4956 - val_loss: 0.2639 - val_accuracy: 0.5820\n",
      "Epoch 6/50\n",
      "39/39 [==============================] - 0s 3ms/step - loss: 0.2688 - accuracy: 0.5286 - val_loss: 0.2493 - val_accuracy: 0.5852\n",
      "Epoch 7/50\n",
      "39/39 [==============================] - 0s 3ms/step - loss: 0.2551 - accuracy: 0.5447 - val_loss: 0.2385 - val_accuracy: 0.6174\n",
      "Epoch 8/50\n",
      "39/39 [==============================] - 0s 3ms/step - loss: 0.2435 - accuracy: 0.5786 - val_loss: 0.2285 - val_accuracy: 0.6367\n",
      "Epoch 9/50\n",
      "39/39 [==============================] - 0s 3ms/step - loss: 0.2338 - accuracy: 0.6245 - val_loss: 0.2206 - val_accuracy: 0.6559\n",
      "Epoch 10/50\n",
      "39/39 [==============================] - 0s 3ms/step - loss: 0.2256 - accuracy: 0.6430 - val_loss: 0.2161 - val_accuracy: 0.6624\n",
      "Epoch 11/50\n",
      "39/39 [==============================] - 0s 3ms/step - loss: 0.2192 - accuracy: 0.6640 - val_loss: 0.2092 - val_accuracy: 0.6656\n",
      "Epoch 12/50\n",
      "39/39 [==============================] - 0s 3ms/step - loss: 0.2136 - accuracy: 0.6712 - val_loss: 0.2054 - val_accuracy: 0.6752\n",
      "Epoch 13/50\n",
      "39/39 [==============================] - 0s 3ms/step - loss: 0.2091 - accuracy: 0.6849 - val_loss: 0.2017 - val_accuracy: 0.6881\n",
      "Epoch 14/50\n",
      "39/39 [==============================] - 0s 3ms/step - loss: 0.2049 - accuracy: 0.6857 - val_loss: 0.1990 - val_accuracy: 0.6849\n",
      "Epoch 15/50\n",
      "39/39 [==============================] - 0s 3ms/step - loss: 0.2019 - accuracy: 0.6922 - val_loss: 0.1966 - val_accuracy: 0.6945\n",
      "Epoch 16/50\n",
      "39/39 [==============================] - 0s 3ms/step - loss: 0.1995 - accuracy: 0.6922 - val_loss: 0.1965 - val_accuracy: 0.6817\n",
      "Epoch 17/50\n",
      "39/39 [==============================] - 0s 2ms/step - loss: 0.1967 - accuracy: 0.7019 - val_loss: 0.1931 - val_accuracy: 0.6881\n",
      "Epoch 18/50\n",
      "39/39 [==============================] - 0s 2ms/step - loss: 0.1941 - accuracy: 0.7091 - val_loss: 0.1916 - val_accuracy: 0.6881\n",
      "Epoch 19/50\n",
      "39/39 [==============================] - 0s 3ms/step - loss: 0.1920 - accuracy: 0.7083 - val_loss: 0.1917 - val_accuracy: 0.6849\n",
      "Epoch 20/50\n",
      "39/39 [==============================] - 0s 3ms/step - loss: 0.1903 - accuracy: 0.7091 - val_loss: 0.1910 - val_accuracy: 0.6849\n",
      "Epoch 21/50\n",
      "39/39 [==============================] - 0s 3ms/step - loss: 0.1882 - accuracy: 0.7147 - val_loss: 0.1897 - val_accuracy: 0.6881\n",
      "Epoch 22/50\n",
      "39/39 [==============================] - 0s 3ms/step - loss: 0.1866 - accuracy: 0.7147 - val_loss: 0.1901 - val_accuracy: 0.6720\n",
      "Epoch 23/50\n",
      "39/39 [==============================] - 0s 3ms/step - loss: 0.1854 - accuracy: 0.7196 - val_loss: 0.1874 - val_accuracy: 0.7042\n",
      "Epoch 24/50\n",
      "39/39 [==============================] - 0s 3ms/step - loss: 0.1837 - accuracy: 0.7212 - val_loss: 0.1876 - val_accuracy: 0.6977\n",
      "Epoch 25/50\n",
      "39/39 [==============================] - 0s 3ms/step - loss: 0.1820 - accuracy: 0.7268 - val_loss: 0.1882 - val_accuracy: 0.7010\n",
      "Epoch 26/50\n",
      "39/39 [==============================] - 0s 2ms/step - loss: 0.1808 - accuracy: 0.7276 - val_loss: 0.1872 - val_accuracy: 0.6977\n",
      "Epoch 27/50\n",
      "39/39 [==============================] - 0s 2ms/step - loss: 0.1792 - accuracy: 0.7397 - val_loss: 0.1854 - val_accuracy: 0.6977\n",
      "Epoch 28/50\n",
      "39/39 [==============================] - 0s 3ms/step - loss: 0.1778 - accuracy: 0.7349 - val_loss: 0.1873 - val_accuracy: 0.7074\n",
      "Epoch 29/50\n",
      "39/39 [==============================] - 0s 3ms/step - loss: 0.1767 - accuracy: 0.7405 - val_loss: 0.1866 - val_accuracy: 0.6977\n",
      "Epoch 30/50\n",
      "39/39 [==============================] - 0s 3ms/step - loss: 0.1752 - accuracy: 0.7373 - val_loss: 0.1850 - val_accuracy: 0.7074\n",
      "Epoch 31/50\n",
      "39/39 [==============================] - 0s 3ms/step - loss: 0.1743 - accuracy: 0.7462 - val_loss: 0.1868 - val_accuracy: 0.6945\n",
      "Epoch 32/50\n",
      "39/39 [==============================] - 0s 3ms/step - loss: 0.1735 - accuracy: 0.7454 - val_loss: 0.1850 - val_accuracy: 0.7042\n",
      "Epoch 33/50\n",
      "39/39 [==============================] - 0s 3ms/step - loss: 0.1721 - accuracy: 0.7470 - val_loss: 0.1871 - val_accuracy: 0.7042\n",
      "Epoch 34/50\n",
      "39/39 [==============================] - 0s 3ms/step - loss: 0.1707 - accuracy: 0.7462 - val_loss: 0.1855 - val_accuracy: 0.7106\n",
      "Epoch 35/50\n",
      "39/39 [==============================] - 0s 2ms/step - loss: 0.1696 - accuracy: 0.7542 - val_loss: 0.1842 - val_accuracy: 0.7042\n",
      "Epoch 36/50\n",
      "39/39 [==============================] - 0s 3ms/step - loss: 0.1693 - accuracy: 0.7575 - val_loss: 0.1868 - val_accuracy: 0.7106\n",
      "Epoch 37/50\n",
      "39/39 [==============================] - 0s 3ms/step - loss: 0.1673 - accuracy: 0.7566 - val_loss: 0.1844 - val_accuracy: 0.6977\n",
      "Epoch 38/50\n",
      "39/39 [==============================] - 0s 3ms/step - loss: 0.1664 - accuracy: 0.7623 - val_loss: 0.1856 - val_accuracy: 0.7042\n",
      "Epoch 39/50\n",
      "39/39 [==============================] - 0s 3ms/step - loss: 0.1662 - accuracy: 0.7558 - val_loss: 0.1827 - val_accuracy: 0.7106\n",
      "Epoch 40/50\n",
      "39/39 [==============================] - 0s 3ms/step - loss: 0.1645 - accuracy: 0.7615 - val_loss: 0.1825 - val_accuracy: 0.7074\n",
      "Epoch 41/50\n",
      "39/39 [==============================] - 0s 3ms/step - loss: 0.1636 - accuracy: 0.7655 - val_loss: 0.1841 - val_accuracy: 0.7074\n",
      "Epoch 42/50\n",
      "39/39 [==============================] - 0s 3ms/step - loss: 0.1625 - accuracy: 0.7655 - val_loss: 0.1831 - val_accuracy: 0.7074\n",
      "Epoch 43/50\n",
      "39/39 [==============================] - 0s 3ms/step - loss: 0.1617 - accuracy: 0.7647 - val_loss: 0.1820 - val_accuracy: 0.7170\n",
      "Epoch 44/50\n",
      "39/39 [==============================] - 0s 3ms/step - loss: 0.1608 - accuracy: 0.7663 - val_loss: 0.1833 - val_accuracy: 0.7138\n",
      "Epoch 45/50\n",
      "39/39 [==============================] - 0s 3ms/step - loss: 0.1598 - accuracy: 0.7712 - val_loss: 0.1836 - val_accuracy: 0.7042\n",
      "Epoch 46/50\n",
      "39/39 [==============================] - 0s 3ms/step - loss: 0.1596 - accuracy: 0.7647 - val_loss: 0.1837 - val_accuracy: 0.6977\n",
      "Epoch 47/50\n",
      "39/39 [==============================] - 0s 3ms/step - loss: 0.1578 - accuracy: 0.7671 - val_loss: 0.1845 - val_accuracy: 0.7074\n",
      "Epoch 48/50\n",
      "39/39 [==============================] - 0s 3ms/step - loss: 0.1580 - accuracy: 0.7703 - val_loss: 0.1825 - val_accuracy: 0.7074\n",
      "Epoch 49/50\n",
      "39/39 [==============================] - 0s 3ms/step - loss: 0.1565 - accuracy: 0.7720 - val_loss: 0.1828 - val_accuracy: 0.7074\n",
      "Epoch 50/50\n",
      "39/39 [==============================] - 0s 3ms/step - loss: 0.1553 - accuracy: 0.7776 - val_loss: 0.1835 - val_accuracy: 0.7042\n"
     ]
    },
    {
     "data": {
      "text/plain": [
       "<keras.callbacks.History at 0x1fce0b0f6a0>"
      ]
     },
     "execution_count": 34,
     "metadata": {},
     "output_type": "execute_result"
    }
   ],
   "source": [
    "# Train the model\n",
    "model.fit(X_train, y_train, epochs=50, batch_size=32, validation_split=0.2)"
   ]
  },
  {
   "cell_type": "code",
   "execution_count": 35,
   "id": "a9c4c238",
   "metadata": {},
   "outputs": [
    {
     "name": "stdout",
     "output_type": "stream",
     "text": [
      "13/13 [==============================] - 0s 1ms/step - loss: 0.1809 - accuracy: 0.7224\n",
      "Accuracy: 72.24%\n"
     ]
    }
   ],
   "source": [
    "# Evaluate the model on the testing set\n",
    "_, accuracy = model.evaluate(X_test, y_test)\n",
    "print('Accuracy: %.2f%%' % (accuracy * 100))"
   ]
  },
  {
   "cell_type": "code",
   "execution_count": 48,
   "id": "f64d0548",
   "metadata": {},
   "outputs": [],
   "source": [
    "epochs = range(1, 51)  # Assuming 50 epochs based on the provided training results\n",
    "loss = [0.6305, 0.4851, 0.3704, 0.3109, 0.2857, 0.2688, 0.2551, 0.2435, 0.2338, 0.2256,\n",
    "        0.2192, 0.2136, 0.2091, 0.2049, 0.2019, 0.1995, 0.1967, 0.1941, 0.1920, 0.1903,\n",
    "        0.1882, 0.1866, 0.1854, 0.1837, 0.1820, 0.1808, 0.1792, 0.1778, 0.1767, 0.1752,\n",
    "        0.1743, 0.1735, 0.1721, 0.1707, 0.1696, 0.1693, 0.1673, 0.1664, 0.1662, 0.1645,\n",
    "        0.1636, 0.1625, 0.1617, 0.1608, 0.1598, 0.1596, 0.1578, 0.1580, 0.1565, 0.1553]\n",
    "accuracy = [0.3175, 0.3691, 0.4408, 0.4843, 0.4956, 0.5286, 0.5447, 0.5786, 0.6245, 0.6430,\n",
    "            0.6640, 0.6712, 0.6849, 0.6857, 0.6922, 0.6922, 0.7019, 0.7091, 0.7083, 0.7091,\n",
    "            0.7147, 0.7147, 0.7196, 0.7212, 0.7268, 0.7276, 0.7397, 0.7349, 0.7405, 0.7373,\n",
    "            0.7462, 0.7454, 0.7470, 0.7462, 0.7542, 0.7575, 0.7566, 0.7623, 0.7558, 0.7615,\n",
    "            0.7655, 0.7655, 0.7647, 0.7663, 0.7712, 0.7647, 0.7671, 0.7703, 0.7720, 0.7776]"
   ]
  },
  {
   "cell_type": "code",
   "execution_count": 49,
   "id": "8d651379",
   "metadata": {},
   "outputs": [
    {
     "data": {
      "image/png": "[encoded data removed]",
      "text/plain": [
       "<Figure size 640x480 with 1 Axes>"
      ]
     },
     "metadata": {},
     "output_type": "display_data"
    },
    {
     "data": {
      "image/png": "[encoded data removed]",
      "text/plain": [
       "<Figure size 640x480 with 1 Axes>"
      ]
     },
     "metadata": {},
     "output_type": "display_data"
    }
   ],
   "source": [
    "# Loss plot\n",
    "plt.plot(epochs, loss, 'b', label='Training Loss')\n",
    "plt.title('Training Loss')\n",
    "plt.xlabel('Epochs')\n",
    "plt.ylabel('Loss')\n",
    "plt.legend()\n",
    "plt.show()\n",
    "\n",
    "# Accuracy plot\n",
    "plt.plot(epochs, accuracy, 'r', label='Training Accuracy')\n",
    "plt.title('Training Accuracy')\n",
    "plt.xlabel('Epochs')\n",
    "plt.ylabel('Accuracy')\n",
    "plt.legend()\n",
    "plt.show()"
   ]
  },
  {
   "cell_type": "markdown",
   "id": "9d856b0e",
   "metadata": {},
   "source": [
    "***Findings Summary:***\n",
    "The model was trained using a dataset consisting of 39 samples with independent variables and corresponding target values. The training was performed for 50 epochs, and the results indicate an improvement in both loss and accuracy over time.\n",
    "\n",
    "During training, the loss decreased gradually from an initial value of 0.6305 to 0.1553, while the accuracy increased from 31.75% to 77.76%. These improvements demonstrate that the model successfully learned the patterns and relationships within the training data.\n",
    "\n",
    "The validation results also show promising performance, with a final loss of 0.1835 and an accuracy of 70.42%. This indicates that the model generalized well to unseen data, which is important for its practical application.\n",
    "\n",
    "In summary, the trained model exhibits good predictive capabilities with an accuracy of 72.24%. It successfully learned from the provided dataset and showed promising performance in predicting the target values based on the given independent variables."
   ]
  }
 ],
 "metadata": {
  "kernelspec": {
   "display_name": "Python 3 (ipykernel)",
   "language": "python",
   "name": "python3"
  },
  "language_info": {
   "codemirror_mode": {
    "name": "ipython",
    "version": 3
   },
   "file_extension": ".py",
   "mimetype": "text/x-python",
   "name": "python",
   "nbconvert_exporter": "python",
   "pygments_lexer": "ipython3",
   "version": "3.10.9"
  }
 },
 "nbformat": 4,
 "nbformat_minor": 5
}
