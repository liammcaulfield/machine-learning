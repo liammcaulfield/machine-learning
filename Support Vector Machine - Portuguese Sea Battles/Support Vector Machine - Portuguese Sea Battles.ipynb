{
 "cells": [
  {
   "cell_type": "markdown",
   "id": "644ab7d3",
   "metadata": {},
   "source": [
    "# Assignment 8 - Support Vector Machine\n",
    "### Liam Caulfield\n",
    "### May 21, 2023"
   ]
  },
  {
   "cell_type": "markdown",
   "id": "8b83da17",
   "metadata": {},
   "source": [
    "For this assignment we analyzed the Portuguese sea battles data, containing information about naval battle outcomes between Portuguese and Dutch/British ships between 1583 and 1663. This assignment will be completed in the following three steps:\n",
    "1. Use an SVM-based model to predict the Portuguese outcome of the battle from the number of ships involved on all sides and Spanish involvement. \n",
    "2. Attempt to solve the same problem with two other classifier techniques.\n",
    "3. Report and compare their results with the SVM results"
   ]
  },
  {
   "cell_type": "code",
   "execution_count": 73,
   "id": "b0bc20eb",
   "metadata": {},
   "outputs": [],
   "source": [
    "# import necessary libraries\n",
    "import pandas as pd\n",
    "import numpy as np\n",
    "from sklearn.svm import SVC\n",
    "from sklearn.model_selection import train_test_split\n",
    "from sklearn.metrics import classification_report, confusion_matrix, roc_curve, roc_auc_score\n",
    "from sklearn.ensemble import RandomForestClassifier\n",
    "from sklearn.linear_model import LogisticRegression\n",
    "import matplotlib.pyplot as plt\n",
    "import seaborn as sns\n",
    "\n",
    "import warnings\n",
    "warnings.filterwarnings('ignore')"
   ]
  },
  {
   "cell_type": "code",
   "execution_count": 2,
   "id": "c823630b",
   "metadata": {},
   "outputs": [],
   "source": [
    "df = pd.read_csv('Assignment 8.csv')"
   ]
  },
  {
   "cell_type": "code",
   "execution_count": 93,
   "id": "628ef333",
   "metadata": {},
   "outputs": [],
   "source": [
    "#df.head()"
   ]
  },
  {
   "cell_type": "code",
   "execution_count": 4,
   "id": "b99486d0",
   "metadata": {},
   "outputs": [],
   "source": [
    "# Split the dataset into features (X) and target variable (y)\n",
    "X = df[['Portuguese Ships', 'Dutch Ships', 'English Ships', 'Ratio', 'Spanish Involvement']]\n",
    "y = df['Portuguese Outcome']"
   ]
  },
  {
   "cell_type": "code",
   "execution_count": 89,
   "id": "81adea03",
   "metadata": {},
   "outputs": [],
   "source": [
    "# Create training and test datasets for independent and dependent variables\n",
    "X_train, X_test, y_train, y_test = train_test_split(X, y, test_size=0.2, random_state=30)"
   ]
  },
  {
   "cell_type": "code",
   "execution_count": 90,
   "id": "e057181f",
   "metadata": {},
   "outputs": [
    {
     "data": {
      "text/html": [
       "<style>#sk-container-id-15 {color: black;background-color: white;}#sk-container-id-15 pre{padding: 0;}#sk-container-id-15 div.sk-toggleable {background-color: white;}#sk-container-id-15 label.sk-toggleable__label {cursor: pointer;display: block;width: 100%;margin-bottom: 0;padding: 0.3em;box-sizing: border-box;text-align: center;}#sk-container-id-15 label.sk-toggleable__label-arrow:before {content: \"▸\";float: left;margin-right: 0.25em;color: #696969;}#sk-container-id-15 label.sk-toggleable__label-arrow:hover:before {color: black;}#sk-container-id-15 div.sk-estimator:hover label.sk-toggleable__label-arrow:before {color: black;}#sk-container-id-15 div.sk-toggleable__content {max-height: 0;max-width: 0;overflow: hidden;text-align: left;background-color: #f0f8ff;}#sk-container-id-15 div.sk-toggleable__content pre {margin: 0.2em;color: black;border-radius: 0.25em;background-color: #f0f8ff;}#sk-container-id-15 input.sk-toggleable__control:checked~div.sk-toggleable__content {max-height: 200px;max-width: 100%;overflow: auto;}#sk-container-id-15 input.sk-toggleable__control:checked~label.sk-toggleable__label-arrow:before {content: \"▾\";}#sk-container-id-15 div.sk-estimator input.sk-toggleable__control:checked~label.sk-toggleable__label {background-color: #d4ebff;}#sk-container-id-15 div.sk-label input.sk-toggleable__control:checked~label.sk-toggleable__label {background-color: #d4ebff;}#sk-container-id-15 input.sk-hidden--visually {border: 0;clip: rect(1px 1px 1px 1px);clip: rect(1px, 1px, 1px, 1px);height: 1px;margin: -1px;overflow: hidden;padding: 0;position: absolute;width: 1px;}#sk-container-id-15 div.sk-estimator {font-family: monospace;background-color: #f0f8ff;border: 1px dotted black;border-radius: 0.25em;box-sizing: border-box;margin-bottom: 0.5em;}#sk-container-id-15 div.sk-estimator:hover {background-color: #d4ebff;}#sk-container-id-15 div.sk-parallel-item::after {content: \"\";width: 100%;border-bottom: 1px solid gray;flex-grow: 1;}#sk-container-id-15 div.sk-label:hover label.sk-toggleable__label {background-color: #d4ebff;}#sk-container-id-15 div.sk-serial::before {content: \"\";position: absolute;border-left: 1px solid gray;box-sizing: border-box;top: 0;bottom: 0;left: 50%;z-index: 0;}#sk-container-id-15 div.sk-serial {display: flex;flex-direction: column;align-items: center;background-color: white;padding-right: 0.2em;padding-left: 0.2em;position: relative;}#sk-container-id-15 div.sk-item {position: relative;z-index: 1;}#sk-container-id-15 div.sk-parallel {display: flex;align-items: stretch;justify-content: center;background-color: white;position: relative;}#sk-container-id-15 div.sk-item::before, #sk-container-id-15 div.sk-parallel-item::before {content: \"\";position: absolute;border-left: 1px solid gray;box-sizing: border-box;top: 0;bottom: 0;left: 50%;z-index: -1;}#sk-container-id-15 div.sk-parallel-item {display: flex;flex-direction: column;z-index: 1;position: relative;background-color: white;}#sk-container-id-15 div.sk-parallel-item:first-child::after {align-self: flex-end;width: 50%;}#sk-container-id-15 div.sk-parallel-item:last-child::after {align-self: flex-start;width: 50%;}#sk-container-id-15 div.sk-parallel-item:only-child::after {width: 0;}#sk-container-id-15 div.sk-dashed-wrapped {border: 1px dashed gray;margin: 0 0.4em 0.5em 0.4em;box-sizing: border-box;padding-bottom: 0.4em;background-color: white;}#sk-container-id-15 div.sk-label label {font-family: monospace;font-weight: bold;display: inline-block;line-height: 1.2em;}#sk-container-id-15 div.sk-label-container {text-align: center;}#sk-container-id-15 div.sk-container {/* jupyter's `normalize.less` sets `[hidden] { display: none; }` but bootstrap.min.css set `[hidden] { display: none !important; }` so we also need the `!important` here to be able to override the default hidden behavior on the sphinx rendered scikit-learn.org. See: https://github.com/scikit-learn/scikit-learn/issues/21755 */display: inline-block !important;position: relative;}#sk-container-id-15 div.sk-text-repr-fallback {display: none;}</style><div id=\"sk-container-id-15\" class=\"sk-top-container\"><div class=\"sk-text-repr-fallback\"><pre>SVC()</pre><b>In a Jupyter environment, please rerun this cell to show the HTML representation or trust the notebook. <br />On GitHub, the HTML representation is unable to render, please try loading this page with nbviewer.org.</b></div><div class=\"sk-container\" hidden><div class=\"sk-item\"><div class=\"sk-estimator sk-toggleable\"><input class=\"sk-toggleable__control sk-hidden--visually\" id=\"sk-estimator-id-15\" type=\"checkbox\" checked><label for=\"sk-estimator-id-15\" class=\"sk-toggleable__label sk-toggleable__label-arrow\">SVC</label><div class=\"sk-toggleable__content\"><pre>SVC()</pre></div></div></div></div></div>"
      ],
      "text/plain": [
       "SVC()"
      ]
     },
     "execution_count": 90,
     "metadata": {},
     "output_type": "execute_result"
    }
   ],
   "source": [
    "# establish SVM model\n",
    "svm = SVC()\n",
    "svm.fit(X_train, y_train)"
   ]
  },
  {
   "cell_type": "code",
   "execution_count": 91,
   "id": "27946247",
   "metadata": {},
   "outputs": [],
   "source": [
    "y_pred = svm.predict(X_test)\n",
    "y_true = df['Portuguese Outcome'].values"
   ]
  },
  {
   "cell_type": "code",
   "execution_count": 92,
   "id": "2395a450",
   "metadata": {},
   "outputs": [
    {
     "name": "stdout",
     "output_type": "stream",
     "text": [
      "              precision    recall  f1-score   support\n",
      "\n",
      "          -1       1.00      1.00      1.00         1\n",
      "           0       0.80      1.00      0.89         4\n",
      "           1       0.00      0.00      0.00         1\n",
      "\n",
      "    accuracy                           0.83         6\n",
      "   macro avg       0.60      0.67      0.63         6\n",
      "weighted avg       0.70      0.83      0.76         6\n",
      "\n"
     ]
    }
   ],
   "source": [
    "# Create classification report\n",
    "report = classification_report(y_test, y_pred)\n",
    "print(report)"
   ]
  },
  {
   "cell_type": "code",
   "execution_count": 59,
   "id": "505e487b",
   "metadata": {},
   "outputs": [
    {
     "data": {
      "image/png": "[encoded data removed]",
      "text/plain": [
       "<Figure size 640x480 with 2 Axes>"
      ]
     },
     "metadata": {},
     "output_type": "display_data"
    }
   ],
   "source": [
    "# Compute confusion matrix\n",
    "cm = confusion_matrix(y_test, y_pred, labels=[-1, 0, 1])\n",
    "\n",
    "# Create a heatmap for the confusion matrix\n",
    "sns.heatmap(cm, annot=True, cmap='Blues', fmt='g', xticklabels=[-1, 0, 1], yticklabels=[-1, 0, 1])\n",
    "plt.xlabel('Predicted Labels')\n",
    "plt.ylabel('True Labels')\n",
    "plt.title('Confusion Matrix')\n",
    "plt.show()"
   ]
  },
  {
   "cell_type": "markdown",
   "id": "5e64a378",
   "metadata": {},
   "source": [
    "**Findings Summary for SVM modelling:**\n",
    "1. The classification report shows high precision and accuracy for classes \"-1\" and \"0\", indicating a low false positive rate for these classes.\n",
    "2. However, the precision for class \"1\" is 0.00, indicating that the model did not correctly identify any instances of class \"1\" among its predictions.\n",
    "3. The overall accuracy is 0.83, but it is important to note that accuracy alone may not provide the complete picture, especially in the presence of class imbalance.\n",
    "4. To improve precision and accuracy for class \"1\", consider strategies such as collecting more representative data, addressing class imbalance, or exploring different models or hyperparameters that better capture the patterns in class \"1\".\n",
    "\n",
    "The classification report and performance metrics discussed are based on a small test dataset. It's important to consider that the performance of the model on this small dataset may not necessarily generalize to larger or more diverse datasets. "
   ]
  },
  {
   "cell_type": "code",
   "execution_count": 69,
   "id": "b584ed4f",
   "metadata": {},
   "outputs": [],
   "source": [
    "# Create a Random Forest Classifier\n",
    "rf_model = RandomForestClassifier()"
   ]
  },
  {
   "cell_type": "code",
   "execution_count": 70,
   "id": "cfbeeb8c",
   "metadata": {},
   "outputs": [],
   "source": [
    "# Train the model\n",
    "rf_model.fit(X_train, y_train)\n",
    "\n",
    "# Make predictions on the test set\n",
    "rf_y_pred = rf_model.predict(X_test)"
   ]
  },
  {
   "cell_type": "code",
   "execution_count": 71,
   "id": "67f30826",
   "metadata": {},
   "outputs": [
    {
     "name": "stdout",
     "output_type": "stream",
     "text": [
      "Random Forest Classification Report:\n",
      "              precision    recall  f1-score   support\n",
      "\n",
      "          -1       0.00      0.00      0.00         1\n",
      "           0       0.50      0.25      0.33         4\n",
      "           1       0.00      0.00      0.00         1\n",
      "\n",
      "    accuracy                           0.17         6\n",
      "   macro avg       0.17      0.08      0.11         6\n",
      "weighted avg       0.33      0.17      0.22         6\n",
      "\n"
     ]
    }
   ],
   "source": [
    "# Evaluate the model\n",
    "rf_classification_report = classification_report(y_test, rf_y_pred)\n",
    "print(\"Random Forest Classification Report:\")\n",
    "print(rf_classification_report)"
   ]
  },
  {
   "cell_type": "code",
   "execution_count": 75,
   "id": "0fdaa897",
   "metadata": {},
   "outputs": [],
   "source": [
    "importances = rf_model.feature_importances_"
   ]
  },
  {
   "cell_type": "code",
   "execution_count": 76,
   "id": "87e2d4f6",
   "metadata": {},
   "outputs": [],
   "source": [
    "# Get the names of the features\n",
    "feature_names = df.columns[:-1]"
   ]
  },
  {
   "cell_type": "code",
   "execution_count": 77,
   "id": "cb462325",
   "metadata": {},
   "outputs": [],
   "source": [
    "# Sort feature importances in descending order\n",
    "sorted_indices = importances.argsort()[::-1]\n",
    "sorted_importances = importances[sorted_indices]\n",
    "sorted_feature_names = feature_names[sorted_indices]"
   ]
  },
  {
   "cell_type": "code",
   "execution_count": 78,
   "id": "ce937d44",
   "metadata": {},
   "outputs": [
    {
     "data": {
      "image/png": "[encoded data removed]",
      "text/plain": [
       "<Figure size 1000x600 with 1 Axes>"
      ]
     },
     "metadata": {},
     "output_type": "display_data"
    }
   ],
   "source": [
    "# Create a bar plot of feature importances\n",
    "plt.figure(figsize=(10, 6))\n",
    "plt.bar(range(len(importances)), sorted_importances, tick_label=sorted_feature_names)\n",
    "plt.xticks(rotation=90)\n",
    "plt.xlabel('Features')\n",
    "plt.ylabel('Importance')\n",
    "plt.title('Random Forest Feature Importances')\n",
    "plt.tight_layout()\n",
    "plt.show()"
   ]
  },
  {
   "cell_type": "markdown",
   "id": "4c07745c",
   "metadata": {},
   "source": [
    "**Findings Summary:**\n",
    "The Random Forest classification report shows low precision, recall, and F1-score for all three classes (-1, 0, 1) compared to the SVM model. The accuracy is also low at 0.17, indicating poor overall performance.\n",
    "\n",
    "1. For class \"-1\", the precision, recall, and F1-score are all 0.00, indicating that the model did not correctly identify any instances of this class. The support is 1, indicating that there is only one instance of this class in the test dataset.\n",
    "\n",
    "2. For class \"0\", the precision is 0.50, indicating that when the model predicts an instance as class \"0\", it is correct half of the time. The recall is 0.25, indicating that the model only captures a quarter of the instances of class \"0\" correctly. The F1-score is 0.33, which is the harmonic mean of precision and recall. The support is 4, indicating that there are four instances of this class in the test dataset.\n",
    "\n",
    "3. For class \"1\", the precision, recall, and F1-score are all 0.00, indicating that the model did not correctly identify any instances of this class. The support is 1, indicating that there is only one instance of this class in the test dataset.\n",
    "\n",
    "The low performance across all classes suggests that the Random Forest model is not able to effectively capture the patterns and make accurate predictions for this classification problem. Further analysis, such as tuning the hyperparameters of the Random Forest model or exploring other classification algorithms, may be necessary to improve the performance."
   ]
  },
  {
   "cell_type": "code",
   "execution_count": 74,
   "id": "64d6b8df",
   "metadata": {},
   "outputs": [
    {
     "name": "stdout",
     "output_type": "stream",
     "text": [
      "Logistic Regression Classification Report:\n",
      "              precision    recall  f1-score   support\n",
      "\n",
      "          -1       0.00      0.00      0.00         1\n",
      "           0       0.50      0.25      0.33         4\n",
      "           1       0.25      1.00      0.40         1\n",
      "\n",
      "    accuracy                           0.33         6\n",
      "   macro avg       0.25      0.42      0.24         6\n",
      "weighted avg       0.38      0.33      0.29         6\n",
      "\n"
     ]
    }
   ],
   "source": [
    "# Create a Logistic Regression Classifier\n",
    "lr_model = LogisticRegression()\n",
    "\n",
    "# Train the model\n",
    "lr_model.fit(X_train, y_train)\n",
    "\n",
    "# Make predictions on the test set\n",
    "lr_y_pred = lr_model.predict(X_test)\n",
    "\n",
    "# Evaluate the model\n",
    "lr_classification_report = classification_report(y_test, lr_y_pred)\n",
    "print(\"Logistic Regression Classification Report:\")\n",
    "print(lr_classification_report)"
   ]
  },
  {
   "cell_type": "markdown",
   "id": "b07fc9de",
   "metadata": {},
   "source": [
    "**Findings Summary:**\n",
    "\n",
    "The Logistic Regression classification report shows varying precision, recall, and F1-scores for the three classes (-1, 0, 1) compared to both the SVM and Random Forest models. The accuracy is 0.33, indicating moderate overall performance.\n",
    "\n",
    "1. For class \"-1\", the precision, recall, and F1-score are all 0.00, indicating that the model did not correctly identify any instances of this class. The support is 1, indicating that there is only one instance of this class in the test dataset.\n",
    "\n",
    "2. For class \"0\", the precision is 0.50, indicating that when the model predicts an instance as class \"0\", it is correct half of the time. The recall is 0.25, indicating that the model only captures a quarter of the instances of class \"0\" correctly. The F1-score is 0.33, which is the harmonic mean of precision and recall. The support is 4, indicating that there are four instances of this class in the test dataset.\n",
    "\n",
    "3. For class \"1\", the precision is 0.25, indicating that when the model predicts an instance as class \"1\", it is correct 25% of the time. The recall is 1.00, indicating that the model captures all instances of class \"1\" correctly. The F1-score is 0.40, which is the harmonic mean of precision and recall. The support is 1, indicating that there is only one instance of this class in the test dataset.\n",
    "\n",
    "The overall performance of the Logistic Regression model is modest, with limited accuracy and low precision and recall for classes \"-1\" and \"0\". However, the model shows higher recall for class \"1\", indicating that it is able to capture all instances of this class correctly. Further analysis and model refinement may be required to improve the performance for classes \"-1\" and \"0\" and achieve better overall accuracy."
   ]
  },
  {
   "cell_type": "markdown",
   "id": "a619a8b3",
   "metadata": {},
   "source": [
    "**Model Comparison:**\n",
    "In comparing the three models, SVM demonstrates the highest precision and accuracy for classes -1 and 0, while Logistic Regression shows moderate performance for class 1 with higher recall. Random Forest, however, performs poorly across all classes with low precision, recall, and F1-scores. Overall, SVM outperforms the other models in terms of precision, accuracy, and overall performance, making it the most suitable choice for this particular classification problem."
   ]
  }
 ],
 "metadata": {
  "kernelspec": {
   "display_name": "Python 3 (ipykernel)",
   "language": "python",
   "name": "python3"
  },
  "language_info": {
   "codemirror_mode": {
    "name": "ipython",
    "version": 3
   },
   "file_extension": ".py",
   "mimetype": "text/x-python",
   "name": "python",
   "nbconvert_exporter": "python",
   "pygments_lexer": "ipython3",
   "version": "3.10.9"
  }
 },
 "nbformat": 4,
 "nbformat_minor": 5
}
